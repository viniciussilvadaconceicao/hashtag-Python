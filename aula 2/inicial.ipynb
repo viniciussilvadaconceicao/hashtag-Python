{
 "cells": [
  {
   "cell_type": "markdown",
   "metadata": {},
   "source": [
    "# Python Insights - Analisando Dados com Python\n",
    "\n",
    "### Case - Cancelamento de Clientes\n",
    "\n",
    "Você foi contratado por uma empresa com mais de 800 mil clientes para um projeto de Dados. Recentemente a empresa percebeu que da sua base total de clientes, a maioria são clientes inativos, ou seja, que já cancelaram o serviço.\n",
    "\n",
    "Precisando melhorar seus resultados ela quer conseguir entender os principais motivos desses cancelamentos e quais as ações mais eficientes para reduzir esse número.\n",
    "\n",
    "Base de dados e arquivos: https://drive.google.com/drive/folders/1uDesZePdkhiraJmiyeZ-w5tfc8XsNYFZ?usp=drive_link"
   ]
  },
  {
   "cell_type": "code",
   "execution_count": 10,
   "metadata": {},
   "outputs": [],
   "source": [
    "#!pip install pandas oppenpyxl numpy ipykernel nbformat plotly\n",
    "'''\n",
    "pandas para base de dados eplotly para graficos\n",
    "PASSO A PASSO \n",
    "PASSO 1: IMPORTA A BASE DE DADOS \n",
    "PASSO 2: VISUALIZAR A BASE DE DADOS\n",
    "    ENTENDER O QUE TEM NA BASE DE DADOS\n",
    "    ENCONTRAR AS CAGADAS DA BASE DE DADOS\n",
    "\n",
    "COLUNAS INÚTES - INFORMACOES QUE NÃO TE AJUDA, TE ATRABALHA\n",
    "TIRAR A COLUNA DE CustomerID\n",
    "\n",
    "'''\n",
    "import pandas\n",
    "tabela = pandas.read_csv(\"cancelamentos.csv\")\n",
    "tabela = tabela.drop(columns=\"CustomerID\")\n",
    "\n",
    "display(tabela)"
   ]
  },
  {
   "cell_type": "code",
   "execution_count": 12,
   "metadata": {},
   "outputs": [],
   "source": [
    "'''\n",
    "PASSO 3: TRATAMENTO DE DADOS- CORRIGIR OS ERROS DA BASE DE DADOS\n",
    "\n",
    "INFORMAÇÕES NO FORMATO ERRADO\n",
    "VALORES VAZIOS \n",
    "\n",
    "'''\n",
    "(tabela.info())\n",
    "#excluir as linhas que tem valores vazios\n",
    "tabela = tabela.dropna()# dropna() exclui as linhas que tem valores vazios\n",
    "(tabela.info())"
   ]
  },
  {
   "cell_type": "code",
   "execution_count": 13,
   "metadata": {},
   "outputs": [],
   "source": [
    "'''\n",
    "PASSO 3: TRATAMENTO DE DADOS- CORRIGIR OS ERROS DA BASE DE DADOS\n",
    "\n",
    "INFORMAÇÕES NO FORMATO ERRADO\n",
    "VALORES VAZIOS \n",
    "\n",
    "'''\n",
    "display(tabela.info())\n",
    "#excluir as linhas que tem valores vazios\n",
    "tabela = tabela.dropna()# dropna() exclui as linhas que tem valores vazios\n",
    "display(tabela.info())"
   ]
  },
  {
   "cell_type": "code",
   "execution_count": 15,
   "metadata": {},
   "outputs": [
    {
     "data": {
      "text/plain": [
       "'\\nPASSO 4 : ANALISE INICIAL DOS CANCELAMENTOS\\n\\n'"
      ]
     },
     "execution_count": 15,
     "metadata": {},
     "output_type": "execute_result"
    }
   ],
   "source": [
    "'''\n",
    "PASSO 4 : ANALISE INICIAL DOS CANCELAMENTOS\n",
    "\n",
    "'''\n",
    "tabela[\"cancelou\"].value_counts()\n",
    "# .mean() calcula a media\n",
    "# .sum() soma\n",
    "# .value_counts() conta quantas vezes aparece cada valor\n",
    "tabela[\"cancelou\"].value_counts(normalize=True)\n",
    "# inserir o paremetro normalize=True) mostra a porcentagem\n",
    "tabela[\"assinatura\"].value_counts(normalize=True).map(\"{:.2%}\".format)"
   ]
  },
  {
   "cell_type": "code",
   "execution_count": 16,
   "metadata": {},
   "outputs": [
    {
     "data": {
      "text/plain": [
       "'import plotly.express as px\\n\\nfor coluna in tabela.columns:\\n    #criar grafico\\n    grafico = px.area(tabela,x=coluna, color=\"cancelou\")\\n    #exibir grafico\\n    grafico.show()'"
      ]
     },
     "execution_count": 16,
     "metadata": {},
     "output_type": "execute_result"
    }
   ],
   "source": [
    "#passo 5 análise de causas do cancelamento dos clientes\n",
    "\n",
    "import plotly.express as px\n",
    "\n",
    "for coluna in tabela.columns:\n",
    "    #criar grafico\n",
    "    grafico = px.area(tabela,x=coluna, color=\"cancelou\")\n",
    "    #exibir grafico\n",
    "    grafico.show()"
   ]
  },
  {
   "cell_type": "code",
   "execution_count": 17,
   "metadata": {},
   "outputs": [
    {
     "data": {
      "text/plain": [
       "'filtro = tabela[\"ligacoes_callcenter\"] <=4\\ntabela= tabela[filtro]\\n# e o atraso ?\\nfiltro = tabela[\"dias_atraso\"] <= 20\\ntabela = tabela[filtro]\\n# e o contrato mensal?\\nfiltro = tabela[\"duracao_contrato\"] != \"Monthly\"\\ntabela = tabela[filtro]\\n\\ndisplay(tabela[\"cancelou\"].value_counts(normalize=True))'"
      ]
     },
     "execution_count": 17,
     "metadata": {},
     "output_type": "execute_result"
    }
   ],
   "source": [
    "#todos os clientes que ligaram mais de 4x pro call center ,canceleram \n",
    "# criar um processo interno para resolver os problemas do cliente em no maximo 3 ligaçoes\n",
    "#criar um processo que quando bate 10 dias de atraso no pagamento, envia um email para o cliente\n",
    "#todos os clientes de contrato mensal , cancelaram\n",
    "#oferecer desconto no contrato anual/ trimestral \n",
    "\n",
    "#filtrar uma base de dados \n",
    "\n",
    "#se eu resolver o call center, pra quanto cai o cancelamento?\n",
    "filtro = tabela[\"ligacoes_callcenter\"] <=4\n",
    "tabela= tabela[filtro]\n",
    "# e o atraso ?\n",
    "filtro = tabela[\"dias_atraso\"] <= 20\n",
    "tabela = tabela[filtro]\n",
    "# e o contrato mensal?\n",
    "filtro = tabela[\"duracao_contrato\"] != \"Monthly\"\n",
    "tabela = tabela[filtro]\n",
    "\n",
    "display(tabela[\"cancelou\"].value_counts(normalize=True))"
   ]
  }
 ],
 "metadata": {
  "kernelspec": {
   "display_name": "base",
   "language": "python",
   "name": "python3"
  },
  "language_info": {
   "codemirror_mode": {
    "name": "ipython",
    "version": 3
   },
   "file_extension": ".py",
   "mimetype": "text/x-python",
   "name": "python",
   "nbconvert_exporter": "python",
   "pygments_lexer": "ipython3",
   "version": "3.12.0"
  },
  "orig_nbformat": 4
 },
 "nbformat": 4,
 "nbformat_minor": 2
}
